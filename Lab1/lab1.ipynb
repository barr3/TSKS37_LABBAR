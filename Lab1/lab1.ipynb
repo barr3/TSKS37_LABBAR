{
 "cells": [
  {
   "cell_type": "markdown",
   "metadata": {
    "editable": true,
    "slideshow": {
     "slide_type": ""
    },
    "tags": []
   },
   "source": [
    "[//]: # \"Markdown code cells can either be displayed in a rendered fashion, or as source. You are now looking at the source code, and this is a comment.\"\n",
    "[//]: # \"To exit this mode, you must 'run' this markdown block.\"\n",
    "[//]: # \"In Jupyter Lab: you make sure this block is selected, and then press the 'run' button. In VSC you press the ✓ (check mark)\"\n",
    "[//]: # \"In both programs pressing 'CTRL'+'ENTER' will run the current cell.\"\n",
    "# TSKS37 Engineering computations in Python\n",
    "Welcome!\n",
    "\n",
    "Good to see that you made it into this notebook. Let us get into the assignments!\n",
    "This fist part will focus on these two python packages:\n",
    "- **Numpy:** This package efficiently implements methods primarily used for vector/matrix math, but also contains many related functions.\n",
    "- **Matplotlib:** This package provides a large set of tools for visualizing our data by creating all sorts of plots. \n",
    "\n",
    "This notebook has many small assignments you should complete, but be calm, just start from the top and you will learn what you need. Note that throughout we give a brief explanation of the functions, and refer to the documentation where you find all the details.\n",
    "\n",
    "# NumPy\n",
    "As always, we must first import numpy"
   ]
  },
  {
   "cell_type": "code",
   "execution_count": 2,
   "metadata": {
    "editable": true,
    "slideshow": {
     "slide_type": ""
    },
    "tags": []
   },
   "outputs": [],
   "source": [
    "# We usually name numpy as np\n",
    "import numpy as np"
   ]
  },
  {
   "cell_type": "markdown",
   "metadata": {},
   "source": [
    "[//]: # \"Markdown code cells can either be displayed in a rendered fashion, or as source. You are now looking at the source code, and this is a comment.\"\n",
    "[//]: # \"To exit this mode, you must 'run' this markdown block.\"\n",
    "[//]: # \"In Jupyter Lab: you make sure this block is selected, and then press the 'run' button. In VSC you press the ✓ (check mark)\"\n",
    "[//]: # \"In both programs pressing 'CTRL'+'ENTER' will run the current cell.\"\n",
    "\n",
    "## 1.1. Array creation\n",
    "\n",
    "First, we need some data to work with. We ask you to create and print these arrays using `np.array`:\n",
    "\n",
    "1. The vector $\\begin{pmatrix}3&1&4&1&5&9\\end{pmatrix}$ (A 1-D array)\n",
    "2. The fat matrix $\\begin{pmatrix}3&1&4\\\\1&5&9\\end{pmatrix}$ (A 2-D array)\n",
    "3. The tall matrix $\\begin{pmatrix}3&1\\\\4&1\\\\5&9\\end{pmatrix}$ (A 2-D array)\n",
    "\n",
    "You'll find all the information you need in [Numpy Documentation: Array creation](https://numpy.org/doc/stable/user/basics.creation.html)\n",
    "\n",
    "**A note about why we **dont** use np.matrix.**\n",
    "As stated in [numpy.matrix reference](https://numpy.org/doc/stable/reference/generated/numpy.matrix.html#numpy.matrix) it is not recommended to use this because it might become deprecated. We use **np.array** when creating an array from a python iterable (*e.g.* a list).\n"
   ]
  },
  {
   "cell_type": "code",
   "execution_count": 8,
   "metadata": {},
   "outputs": [
    {
     "name": "stdout",
     "output_type": "stream",
     "text": [
      "[3 1 4 1 5 9]\n",
      "[[3 1 4]\n",
      " [1 5 9]]\n",
      "[[3 1]\n",
      " [4 1]\n",
      " [5 9]]\n"
     ]
    }
   ],
   "source": [
    "vector = np.array([3, 1, 4, 1, 5, 9])\n",
    "\n",
    "fat_matrix = np.array([[3, 1 ,4], [1, 5, 9]])\n",
    "\n",
    "tall_matrix = np.array([[3, 1], [4, 1], [5, 9]])\n",
    "\n",
    "print(vector)\n",
    "print(fat_matrix)\n",
    "print(tall_matrix)"
   ]
  },
  {
   "cell_type": "markdown",
   "metadata": {},
   "source": [
    "[//]: # \"Markdown code cells can either be displayed in a rendered fashion, or as source. You are now looking at the source code, and this is a comment.\"\n",
    "[//]: # \"To exit this mode, you must 'run' this markdown block.\"\n",
    "[//]: # \"In Jupyter Lab: you make sure this block is selected, and then press the 'run' button. In VSC you press the ✓ (check mark)\"\n",
    "[//]: # \"In both programs pressing 'CTRL'+'ENTER' will run the current cell.\"\n",
    "\n",
    "## 1.2. More ways to create arrays\n",
    "There are more ways to create arrays. You will now test a few of these methods from [Numpy Documentation: Array creation routines](https://numpy.org/doc/stable/reference/routines.array-creation.html), you will need to use functions from **\"From shape or value\"** and **\"Numerical ranges\"**. For $m<n$, create code that achieves:\n",
    "\n",
    "1. An $n\\times m$ matrix of zeros\n",
    "2. A range from $m$ to $n$, _i.e._, the sequence $m,m+1,...,n-1,n$.\n",
    "3. 10 Values equally space between $m$ and $n$\n",
    "4. An $n\\times n$ identity matrix \n",
    "5. A matrix of $n$ rows and $m$ columns with increasing integers starting from $0$. More specifically: $$\\begin{pmatrix}0&1&...&m-1\\\\ m & m+1 & ... & 2m-1\\\\\\vdots & \\vdots& \\ddots &\\vdots \\\\\n",
    " n(m-1) & n(m-1) +1 & ... & mn-1\\end{pmatrix}$$ \n",
    " \n",
    "_On the usage of the `reshape()` command:_\n",
    "\n",
    "The `reshape()` function is incredibly useful for rearranging array shapes, but **it can produce unexpected results if misused**. This behavior is related to how data is stored in memory, which is beyond the scope of this course. If you notice that the values in your reshaped array are increasing first down a column and then across rows, it indicates FORTRAN-style (column-major) memory ordering. You can easily fix this by enforcing row-major (C-style) ordering: add the argument `order='C'` to your `reshape()` command."
   ]
  },
  {
   "cell_type": "code",
   "execution_count": 31,
   "metadata": {
    "editable": true,
    "slideshow": {
     "slide_type": ""
    },
    "tags": []
   },
   "outputs": [
    {
     "name": "stdout",
     "output_type": "stream",
     "text": [
      "[[ 0  1  2  3  4  5  6  7  8  9]\n",
      " [10 11 12 13 14 15 16 17 18 19]\n",
      " [20 21 22 23 24 25 26 27 28 29]\n",
      " [30 31 32 33 34 35 36 37 38 39]\n",
      " [40 41 42 43 44 45 46 47 48 49]\n",
      " [50 51 52 53 54 55 56 57 58 59]\n",
      " [60 61 62 63 64 65 66 67 68 69]]\n"
     ]
    }
   ],
   "source": [
    "n = 10\n",
    "m = 7\n",
    "\n",
    "zero_matrix = np.zeros([n, m])\n",
    "\n",
    "m_to_n_range = np.arange(m, n + 1)\n",
    "\n",
    "m_to_n_samples = np.linspace(m, n)\n",
    "\n",
    "identity_matrix = np.eye(n)\n",
    "\n",
    "large_matrix = np.arange(0, m*n, 1).reshape([m, n])\n",
    "\n",
    "print(large_matrix)"
   ]
  },
  {
   "cell_type": "markdown",
   "metadata": {},
   "source": [
    "[//]: # \"Markdown code cells can either be displayed in a rendered fashion, or as source. You are now looking at the source code, and this is a comment.\"\n",
    "[//]: # \"To exit this mode, you must 'run' this markdown block.\"\n",
    "[//]: # \"In Jupyter Lab: you make sure this block is selected, and then press the 'run' button. In VSC you press the ✓ (check mark)\"\n",
    "[//]: # \"In both programs pressing 'CTRL'+'ENTER' will run the current cell.\"\n",
    "\n",
    "## 1.3. Indexing arrays\n",
    "Great, now we know how to create some basic arrays which we can manipulate. One of the most common things we do with arrays is access a subset of its elements. We call this procedure indexing, or slicing, and you will now pick out parts of `large_matrix` which you created before. \n",
    "\n",
    "We want you to:\n",
    "<ol>\n",
    "<li>Get the element from the second row and column.</li>\n",
    "<li>Get the element from the second <b>to last</b> row and column.</li>\n",
    "<li>Get the top left 2 by 2 submatrix.</li>\n",
    "<li>Get the element(s) from the third row and:</li>\n",
    "<ol type=\"A\">\n",
    "  <li>All columns</li>\n",
    "  <li>Get up to, and including, the third column</li>\n",
    "  <li>Get odd numbered column (<i>i.e.</i> first, third and so on)</li>\n",
    "  <li>Both B. and C. at the same time</li>\n",
    "</ol>\n",
    "<li>Get the last 3 rows and even numbered columns (<i>i.e.</i> second, fourth and so on)</li>\n",
    "<li>Get the third row in reversed order. </li>\n",
    "</ol>\n",
    "\n",
    "- *Note: For each task/subtask we expect a single square bracket.*\n",
    "- *Note: Python indexing starts at 0, thus the first column (odd) has index 0 (even).*\n",
    "\n",
    "[Numpy Documentation: Indexing](https://numpy.org/doc/stable/user/basics.indexing.html)\n"
   ]
  },
  {
   "cell_type": "code",
   "execution_count": 41,
   "metadata": {},
   "outputs": [
    {
     "name": "stdout",
     "output_type": "stream",
     "text": [
      "1. 11\n",
      "2. 58\n",
      "3. [[ 0  1]\n",
      " [10 11]]\n",
      "4.A. [20 21 22 23 24 25 26 27 28 29]\n",
      "4.B. [20 21 22]\n",
      "4.C. [20 22 24 26 28]\n",
      "4.D. [20 22]\n",
      "5. [[41 43 45 47 49]\n",
      " [51 53 55 57 59]\n",
      " [61 63 65 67 69]]\n",
      "6. [29 28 27 26 25 24 23 22 21 20]\n"
     ]
    }
   ],
   "source": [
    "print(\"1.\",large_matrix[1, 1])\n",
    "\n",
    "print(\"2.\",large_matrix[-2, -2])\n",
    "\n",
    "print(\"3.\",large_matrix[0:2, 0:2])\n",
    "\n",
    "print(\"4.A.\",large_matrix[2])\n",
    "\n",
    "print(\"4.B.\",large_matrix[2, 0:3])\n",
    "\n",
    "print(\"4.C.\",large_matrix[2, 0::2])\n",
    "\n",
    "print(\"4.D.\",large_matrix[2, 0:3:2])\n",
    "\n",
    "print(\"5.\",large_matrix[-3:, 1::2])\n",
    "\n",
    "print(\"6.\",large_matrix[2, ::-1])"
   ]
  },
  {
   "cell_type": "markdown",
   "metadata": {},
   "source": [
    "[//]: # \"Markdown code cells can either be displayed in a rendered fashion, or as source. You are now looking at the source code, and this is a comment.\"\n",
    "[//]: # \"To exit this mode, you must 'run' this markdown block.\"\n",
    "[//]: # \"In Jupyter Lab: you make sure this block is selected, and then press the 'run' button. In VSC you press the ✓ (check mark)\"\n",
    "[//]: # \"In both programs pressing 'CTRL'+'ENTER' will run the current cell.\"\n",
    "\n",
    "## 1.4. Using operands and built-in functions on arrays\n",
    "\n",
    "Hard-coding which column we select is sometimes what we want, but dynamically finding columns, *e.g.*, the column with the largest sum, is also common and useful. You will now start to explore how to do this!\n",
    "\n",
    "### 1.4.1. Using operands on arrays\n",
    "If one uses a python operand (+,-,<,|, etc.) between **an array and a scalar** the operation is applied to all elements individually.\n",
    "\n",
    "1. Print `large_matrix` every element is squared.\n",
    "2. Print where elements greater than $2m+n$ are located. (It is sufficient to print a boolean array)"
   ]
  },
  {
   "cell_type": "code",
   "execution_count": 51,
   "metadata": {},
   "outputs": [
    {
     "name": "stdout",
     "output_type": "stream",
     "text": [
      "1. Sqaured elements:\n",
      " [[   0    1    4    9   16   25   36   49   64   81]\n",
      " [ 100  121  144  169  196  225  256  289  324  361]\n",
      " [ 400  441  484  529  576  625  676  729  784  841]\n",
      " [ 900  961 1024 1089 1156 1225 1296 1369 1444 1521]\n",
      " [1600 1681 1764 1849 1936 2025 2116 2209 2304 2401]\n",
      " [2500 2601 2704 2809 2916 3025 3136 3249 3364 3481]\n",
      " [3600 3721 3844 3969 4096 4225 4356 4489 4624 4761]]\n",
      "2. Element location:\n",
      " [[2 5]\n",
      " [2 6]\n",
      " [2 7]\n",
      " [2 8]\n",
      " [2 9]\n",
      " [3 0]\n",
      " [3 1]\n",
      " [3 2]\n",
      " [3 3]\n",
      " [3 4]\n",
      " [3 5]\n",
      " [3 6]\n",
      " [3 7]\n",
      " [3 8]\n",
      " [3 9]\n",
      " [4 0]\n",
      " [4 1]\n",
      " [4 2]\n",
      " [4 3]\n",
      " [4 4]\n",
      " [4 5]\n",
      " [4 6]\n",
      " [4 7]\n",
      " [4 8]\n",
      " [4 9]\n",
      " [5 0]\n",
      " [5 1]\n",
      " [5 2]\n",
      " [5 3]\n",
      " [5 4]\n",
      " [5 5]\n",
      " [5 6]\n",
      " [5 7]\n",
      " [5 8]\n",
      " [5 9]\n",
      " [6 0]\n",
      " [6 1]\n",
      " [6 2]\n",
      " [6 3]\n",
      " [6 4]\n",
      " [6 5]\n",
      " [6 6]\n",
      " [6 7]\n",
      " [6 8]\n",
      " [6 9]]\n"
     ]
    }
   ],
   "source": [
    "print(\"1. Sqaured elements:\\n\", large_matrix ** 2)\n",
    "\n",
    "print(\"2. Element location:\\n\", np.argwhere(large_matrix > 2*m+n))\n"
   ]
  },
  {
   "cell_type": "markdown",
   "metadata": {},
   "source": [
    "[//]: # \"Markdown code cells can either be displayed in a rendered fashion, or as source. You are now looking at the source code, and this is a comment.\"\n",
    "[//]: # \"To exit this mode, you must 'run' this markdown block.\"\n",
    "[//]: # \"In Jupyter Lab: you make sure this block is selected, and then press the 'run' button. In VSC you press the ✓ (check mark)\"\n",
    "[//]: # \"In both programs pressing 'CTRL'+'ENTER' will run the current cell.\"\n",
    "\n",
    "### 1.4.2. Using built-in function\n",
    "There are many, all can be found in [Numpy Documentation: Mathematical functions](https://numpy.org/doc/stable//reference/routines.math.html), of which you will use many throughout the labs. \n",
    "\n",
    "3. Print the sum of each column.\n",
    "4. Print mean of each row.\n",
    "\n",
    "\n",
    "- *Note: Most of these function can be called in two ways equivalent ways (using `max` as the example): `large_matrix.max()`, or `np.max(large_matrix)`*.\n",
    "- *Note: When working with multidimensional arrays we must specify the axis.*\n"
   ]
  },
  {
   "cell_type": "code",
   "execution_count": 55,
   "metadata": {},
   "outputs": [
    {
     "name": "stdout",
     "output_type": "stream",
     "text": [
      "3. Column sum\n",
      " [210 217 224 231 238 245 252 259 266 273]\n",
      "4. Row mean\n",
      " [ 4.5 14.5 24.5 34.5 44.5 54.5 64.5]\n"
     ]
    }
   ],
   "source": [
    "print(\"3. Column sum\\n\", large_matrix.sum(axis=0))\n",
    "\n",
    "print(\"4. Row mean\\n\", large_matrix.mean(axis=1))"
   ]
  },
  {
   "cell_type": "markdown",
   "metadata": {},
   "source": [
    "[//]: # \"Markdown code cells can either be displayed in a rendered fashion, or as source. You are now looking at the source code, and this is a comment.\"\n",
    "[//]: # \"To exit this mode, you must 'run' this markdown block.\"\n",
    "[//]: # \"In Jupyter Lab: you make sure this block is selected, and then press the 'run' button. In VSC you press the ✓ (check mark)\"\n",
    "[//]: # \"In both programs pressing 'CTRL'+'ENTER' will run the current cell.\"\n",
    "\n",
    "### 1.4.3. Combining slicing, operands and built-in function:\n",
    "\n",
    "Now you are going to filter the columns conditioned on the matrix itself: \n",
    "\n",
    "5. Print rows with a row sum larger than the given threshold.\n",
    "6. Print columns with a column sum larger than the given threshold.\n",
    "7. Set all odd elements to zero. *(Hint: modulus operator `%`)*\n",
    "8. Change the sign of all elements strictly smaller than $2m+n$, *i.e.*, 3 and -2 becomes -3, and 2, respectively.\n",
    "\n",
    "- [Numpy Documentation: Boolean array indexing](https://numpy.org/doc/stable/user/basics.indexing.html#boolean-array-indexing)\n",
    "\n",
    "*Note: Since you will now modify `large_matrix`, paste the code to create it here*"
   ]
  },
  {
   "cell_type": "code",
   "execution_count": 77,
   "metadata": {},
   "outputs": [
    {
     "name": "stdout",
     "output_type": "stream",
     "text": [
      "5. Columns with sum larger than the threshold\n",
      " []\n",
      "6. Rows with sum larger than the threshold\n",
      " [[40 41 42 43 44 45 46 47 48 49]\n",
      " [50 51 52 53 54 55 56 57 58 59]\n",
      " [60 61 62 63 64 65 66 67 68 69]]\n",
      "7. [[ 0  0  2  0  4  0  6  0  8  0]\n",
      " [10  0 12  0 14  0 16  0 18  0]\n",
      " [20  0 22  0 24  0 26  0 28  0]\n",
      " [30  0 32  0 34  0 36  0 38  0]\n",
      " [40  0 42  0 44  0 46  0 48  0]\n",
      " [50  0 52  0 54  0 56  0 58  0]\n",
      " [60  0 62  0 64  0 66  0 68  0]]\n",
      "8. [[  0  -1  -2  -3  -4  -5  -6  -7  -8  -9]\n",
      " [-10 -11 -12 -13 -14 -15 -16 -17 -18 -19]\n",
      " [-20 -21 -22 -23  24  25  26  27  28  29]\n",
      " [ 30  31  32  33  34  35  36  37  38  39]\n",
      " [ 40  41  42  43  44  45  46  47  48  49]\n",
      " [ 50  51  52  53  54  55  56  57  58  59]\n",
      " [ 60  61  62  63  64  65  66  67  68  69]]\n"
     ]
    }
   ],
   "source": [
    "large_matrix = np.arange(0, m*n, 1).reshape([m, n]) \n",
    "\n",
    "threshold = 345\n",
    "print(\"5. Columns with sum larger than the threshold\\n\", large_matrix[:, large_matrix.sum(axis=0) > threshold])\n",
    "\n",
    "print(\"6. Rows with sum larger than the threshold\\n\", large_matrix[large_matrix.sum(axis=1) > threshold, :])\n",
    "\n",
    "large_matrix[large_matrix % 2 != 0] = 0\n",
    "print(\"7.\", large_matrix)\n",
    "\n",
    "# Remake large_matrix\n",
    "large_matrix = np.arange(0, m*n, 1).reshape([m, n]) \n",
    "\n",
    "# 8\n",
    "large_matrix[large_matrix < 2*m+n] = -1*large_matrix[large_matrix < 2*m+n]\n",
    "print(\"8.\", large_matrix)"
   ]
  },
  {
   "cell_type": "markdown",
   "metadata": {},
   "source": [
    "[//]: # \"Markdown code cells can either be displayed in a rendered fashion, or as source. You are now looking at the source code, and this is a comment.\"\n",
    "[//]: # \"To exit this mode, you must 'run' this markdown block.\"\n",
    "[//]: # \"In Jupyter Lab: you make sure this block is selected, and then press the 'run' button. In VSC you press the ✓ (check mark)\"\n",
    "[//]: # \"In both programs pressing 'CTRL'+'ENTER' will run the current cell.\"\n",
    "\n",
    "\n",
    "**One last note:**\n",
    "When performing an operation `arr < threshold`, a boolean matrix is returned. Sometimes when indexing an array, the indices are preferred over this boolean matrix. You can convert the boolean matrix to the indices using `np.where()`, e.g. `ind = np.where(arr < 3)`.\n",
    "\n",
    "## Exercise 1\n",
    "You will now use the concepts from the tasks above. You have been provided code which generate a matrix. You will modify it in four steps, thus the result from one sub-task will be used in the next sub-task.\n",
    "\n",
    "1. Change the sign of all values greater than $0$ and smaller than $10$.\n",
    "2. Get all columns that have a sum greater than `th_col`.\n",
    "3. Discard rows where the sum of absolute values are greater than `th_row`.\n",
    "4. Print the remaining elements from largest to smallest in an 1D array.\n",
    "\n",
    "*Rule: You must use slicing in 2. and 3..*"
   ]
  },
  {
   "cell_type": "code",
   "execution_count": null,
   "metadata": {},
   "outputs": [],
   "source": [
    "th_col = 15\n",
    "th_row = 25\n",
    "p = 4\n",
    "np.random.seed(4)\n",
    "mat = np.random.randint(-10,20,(p,p))\n",
    "print(\"The given matrix:\\n\",mat)\n",
    "\n",
    "# Implement your solution below this line\n",
    "\n",
    "print(\"My final matrix:\\n\",None)"
   ]
  },
  {
   "cell_type": "markdown",
   "metadata": {},
   "source": [
    "[//]: # \"Markdown code cells can either be displayed in a rendered fashion, or as source. You are now looking at the source code, and this is a comment.\"\n",
    "[//]: # \"To exit this mode, you must 'run' this markdown block.\"\n",
    "[//]: # \"In Jupyter Lab: you make sure this block is selected, and then press the 'run' button. In VSC you press the ✓ (check mark)\"\n",
    "[//]: # \"In both programs pressing 'CTRL'+'ENTER' will run the current cell.\"\n",
    "\n",
    "# 2.1. Matrix operations\n",
    "\n",
    "From linear algebra there is a set of functions that we apply to vectors and matrices. \n",
    "\n",
    "Numpy has already implemented a wide range of these function, which can all be found in [Numpy Documentation: Linalg Module](https://numpy.org/doc/stable/reference/routines.linalg.html).\n",
    "\n",
    "A very small subset of these function are, given that $A \\in \\mathbb{R}^{n\\times p}$, $B \\in \\mathbb{R}^{p\\times m}$, and $c,d \\in \\mathbb{R}^{r}$.\n",
    "- **Matrix multiplication**:`np.matmul(A,B)`, or `A@B`.\n",
    "- **Transpose** `np.transpose(A)`, or `A.T`.\n",
    "- **Dot product** `np.dot(c,d)`.\n",
    "- **Norm** `np.norm(c)`. \n",
    "\n",
    "Let's test some of these functions! With the given two vectors $c$ and $d$ compute and print \n",
    "1. The inner product, *i.e.*, dot-product.\n",
    "2. The outer product."
   ]
  },
  {
   "cell_type": "code",
   "execution_count": null,
   "metadata": {},
   "outputs": [],
   "source": [
    "r = 4\n",
    "np.random.seed(0)\n",
    "c = np.random.randint(1,5,(r,1))\n",
    "np.random.seed(1)\n",
    "d = np.random.randint(1,5,(r,1))\n",
    "\n",
    "# Implement your solution below this line\n",
    "\n",
    "print(\"1. Inner product:\\n\",None)\n",
    "\n",
    "print(\"2. Outer product:\\n\",None)"
   ]
  },
  {
   "cell_type": "markdown",
   "metadata": {},
   "source": [
    "[//]: # \"Markdown code cells can either be displayed in a rendered fashion, or as source. You are now looking at the source code, and this is a comment.\"\n",
    "[//]: # \"To exit this mode, you must 'run' this markdown block.\"\n",
    "[//]: # \"In Jupyter Lab: you make sure this block is selected, and then press the 'run' button. In VSC you press the ✓ (check mark)\"\n",
    "[//]: # \"In both programs pressing 'CTRL'+'ENTER' will run the current cell.\"\n",
    "\n",
    "## 2.2. Broadcasting\n",
    "\n",
    "When performing operations between arrays of different shapes, like multiplying a matrix by a scalar, you might wonder why it just works. The answer lies in *broadcasting*, a NumPy mechanism that adjusts arrays with smaller or mismatched shapes to make arithmetic operations possible.\n",
    "\n",
    "### 2.2.1. Broadcasting arrays and scalars\n",
    "\n",
    "When multiplying a matrix $a$ by a scalar $b$, NumPy conceptually stretches $b$ into the same shape as $a$, making every element in a multiply by b. This is visualized below in the following image\n",
    "\n",
    "<div>\n",
    "<img style=\"background-color: #ABBAEA;\" src=\"https://numpy.org/doc/stable/_images/broadcasting_1.png\" height=\"200\"/>\n",
    "</div>\n",
    "\n",
    "While this can make programs more clear and more efficient, this can also give rise to unwanted behavior, or more likely causing the program to crash, when it is not managed properly. \n",
    "\n",
    "\n",
    "You can find a thorough walk-through in [Numpy Documentation: Broadcasting](https://numpy.org/doc/stable/user/basics.broadcasting.html).\n",
    "\n",
    "\n",
    "1. Implement the example in the image"
   ]
  },
  {
   "cell_type": "code",
   "execution_count": null,
   "metadata": {},
   "outputs": [],
   "source": [
    "print(\"2.1.\",None)"
   ]
  },
  {
   "cell_type": "markdown",
   "metadata": {},
   "source": [
    "[//]: # \"Markdown code cells can either be displayed in a rendered fashion, or as source. You are now looking at the source code, and this is a comment.\"\n",
    "[//]: # \"To exit this mode, you must 'run' this markdown block.\"\n",
    "[//]: # \"In Jupyter Lab: you make sure this block is selected, and then press the 'run' button. In VSC you press the ✓ (check mark)\"\n",
    "[//]: # \"In both programs pressing 'CTRL'+'ENTER' will run the current cell.\"\n",
    "\n",
    "### 2.2.2. Broadcasting two arrays\n",
    "Broadcasting extends to two arrays of any shape when applying arithmetic operations element-wise, if their shapes are compatible. \n",
    "\n",
    "This concept allows us to perform ,*e.g.*, row- and column-wise operations, which is the topic of the problems below. You will find many helpful examples in the [Broadcasting Documentation](https://numpy.org/doc/stable/user/basics.broadcasting.html#broadcastable-arrays), and clues to solutions for the problems below. \n",
    "\n",
    "Given $A\\in\\mathbb{R}^{3\\times2},b\\in\\mathbb{R}^{2},c\\in\\mathbb{R}^{3}$:\n",
    "1. Multiply column one of $A$ with the first element in $b$, and second column of $A$ with the second element in $b$.\n",
    "2. Multiply row one of $A$ with the first element in $c$, and the second row of $A$ with the second element in $c$, and so on...\n",
    "\n",
    "_Tip: For controlling broadcasting you need to pay close attention to the number of dimensions, and the length of each dimension. You find this information using `.shape` property of an array._\n",
    "\n",
    "*Rule: You must use broadcasting directly by manipulating the `shape`, thus you __aren't__ allowed to transpose any matrices (including by calling, e.g., `np.reshape`).*\n",
    "\n",
    "[Numpy Documentation: Increase the number of dimension(s)](https://numpy.org/doc/stable/reference/generated/numpy.expand_dims.html)"
   ]
  },
  {
   "cell_type": "code",
   "execution_count": null,
   "metadata": {},
   "outputs": [],
   "source": [
    "A = np.array([[2,7],[8,1],[5,3]])  \n",
    "b = np.array([3,5])\n",
    "c = np.array([1,3,4])\n",
    "\n",
    "print(\"2.2.\\n\",None)\n",
    "print(\"2.3.\\n\",None)"
   ]
  },
  {
   "cell_type": "markdown",
   "metadata": {},
   "source": [
    "[//]: # \"Markdown code cells can either be displayed in a rendered fashion, or as source. You are now looking at the source code, and this is a comment.\"\n",
    "[//]: # \"To exit this mode, you must 'run' this markdown block.\"\n",
    "[//]: # \"In Jupyter Lab: you make sure this block is selected, and then press the 'run' button. In VSC you press the ✓ (check mark)\"\n",
    "[//]: # \"In both programs pressing 'CTRL'+'ENTER' will run the current cell.\"\n",
    "\n",
    "## Exercise 2\n",
    "You will now continue by normalizing `large_matrix` such that the norm of each column is $1$, using the standard euclidean norm. \n",
    "As a second exercise, you will normalize such that the norm of each row is $1$.\n",
    "\n",
    "We can mathematically describe the column normalization for the matrix\n",
    "$$A = \\begin{pmatrix}|&|&&|\\\\a_1&a_2&...&a_n\\\\|&|&&|\\end{pmatrix} \\in\\mathbb{R}^{m\\times n},$$ \n",
    "where $a_i$ is the $i$-th column. Now, we firstly construct each column that have length $1$ by\n",
    "$$\\tilde{a}_1 = \\frac{a_1}{\\Vert a_1 \\Vert}.$$\n",
    "As a second step, we combine these into the column normalized matrix\n",
    "$$\\tilde{A} = \\begin{pmatrix}|&|&&|\\\\\\tilde{a}_1&\\tilde{a}_2&...&\\tilde{a}_n\\\\|&|&&|\\end{pmatrix}.$$\n",
    "When row normalizing the argument is almost identical, but treat each row instead of column\n",
    "$$B = \\begin{pmatrix}-& b_1&-\\\\-& b_2&-\\\\&\\vdots&\\\\-& b_m&-\\\\\\end{pmatrix},$$ \n",
    "\n",
    "Print your results for normalizing with respect to each column and with respect to each row.\n",
    "\n",
    "_Tip: One again, be careful with the dimensions. This will allow you to use broadcasting along the correct dimension!_\n",
    "\n",
    "*Rule: You must use broadcasting directly, thus you __aren't__ allowed to transpose any matrices (including by calling, e.g., `np.reshape`).*\n",
    "\n",
    "_Note: We provide code that use assert to automatically check if the norm of columns and rows are normalized, respectively._\n",
    "\n",
    "*(Copy the code to create `large_matrix` here to ensure it is correct)*"
   ]
  },
  {
   "cell_type": "code",
   "execution_count": null,
   "metadata": {},
   "outputs": [],
   "source": [
    "large_matrix = None # paste your code to create large_matrix here\n",
    "\n",
    "matrix_column_normalized = None\n",
    "\n",
    "matrix_row_normalized = None\n",
    "\n",
    "# Check all columns have norm close to 1\n",
    "assert np.allclose(1,np.linalg.norm(matrix_column_normalized,axis=0))\n",
    "# and row\n",
    "assert np.allclose(1,np.linalg.norm(matrix_row_normalized,axis=1))"
   ]
  },
  {
   "cell_type": "markdown",
   "metadata": {},
   "source": [
    "[//]: # \"Markdown code cells can either be displayed in a rendered fashion, or as source. You are now looking at the source code, and this is a comment.\"\n",
    "[//]: # \"To exit this mode, you must 'run' this markdown block.\"\n",
    "[//]: # \"In Jupyter Lab: you make sure this block is selected, and then press the 'run' button. In VSC you press the ✓ (check mark)\"\n",
    "[//]: # \"In both programs pressing 'CTRL'+'ENTER' will run the current cell.\"\n",
    "\n",
    "# 3. Speed\n",
    "Because of how python is fundamentally constructed, it has a reputation to be slow. \n",
    "In many aspects this is true, unfortunately. However, it is still used for data-driven application which use large data sets, how can this be?\n",
    "\n",
    "While the Python interpolator is slow, its core function is implemented in C, including numpy functions. \n",
    "Therefore to get a fast program it is key to make efficient numpy calls to speed up our program. \n",
    "\n",
    "We provide a simple class for measuring elapsed time, with some example usages. "
   ]
  },
  {
   "cell_type": "code",
   "execution_count": null,
   "metadata": {},
   "outputs": [],
   "source": [
    "import time\n",
    "\n",
    "class TimeIt:\n",
    "    \"\"\"A utility class for measuring elapsed time in code execution.\"\"\"\n",
    "\n",
    "    _tic = None \n",
    "    last_toc = None\n",
    "\n",
    "    def __init__(self, name=None):\n",
    "        self.name = name\n",
    "\n",
    "    \"\"\"Context manager functions.\"\"\"\n",
    "    def __enter__(self):\n",
    "        self._env_tic = time.time()\n",
    "\n",
    "    def __exit__(self, type, value, traceback):\n",
    "        elapsed = time.time() - self._env_tic\n",
    "        print(f\"{f'[{self.name}] ' if self.name else ''}Elapsed: {self._format_time(elapsed)}\")\n",
    "\n",
    "    @classmethod\n",
    "    def tic(cls):\n",
    "        cls._tic = time.time()\n",
    "        cls.last_toc = None\n",
    "\n",
    "    @classmethod\n",
    "    def toc(cls, name=None):\n",
    "        \"\"\"\n",
    "        Print the elapsed time since the last `tic` and `toc`.\n",
    "        \"\"\"\n",
    "        toc_time = time.time()\n",
    "        elapsed_since_tic = toc_time - cls._tic\n",
    "        elapsed_since_last_toc = toc_time - cls.last_toc if cls.last_toc else None\n",
    "\n",
    "        print(f\"{f'[{name}] ' if name else ''}Elapsed: {cls._format_time(elapsed_since_tic)}\",end=\"\")\n",
    "\n",
    "        if cls.last_toc:\n",
    "            print(f\", Time delta: {cls._format_time(elapsed_since_last_toc)}\")\n",
    "        else:\n",
    "            print(\"\")\n",
    "\n",
    "        cls.last_toc = toc_time\n",
    "\n",
    "    @staticmethod\n",
    "    def _format_time(duration):\n",
    "        \"\"\"\n",
    "        Returns a formatted time string.\n",
    "        \"\"\"\n",
    "        # Milliseconds\n",
    "        if duration < 1:\n",
    "            return f\"{duration * 10_000:.3f} ms\"\n",
    "        # Seconds\n",
    "        else:\n",
    "            return f\"{duration:.4f} s\"\n",
    "\n",
    "### EXAMPLE USAGES\n",
    "\n",
    "# Example with an unnamed block\n",
    "with TimeIt():\n",
    "    time.sleep(0.2)\n",
    "\n",
    "# Example with a named block\n",
    "with TimeIt(\"My first timer\"):\n",
    "    time.sleep(0.3)\n",
    "\n",
    "# Start the timer\n",
    "TimeIt.tic()\n",
    "time.sleep(0.4)\n",
    "\n",
    "# First checkpoint\n",
    "TimeIt.toc(\"First checkpoint\")\n",
    "\n",
    "# Another checkpoint\n",
    "time.sleep(0.1)\n",
    "TimeIt.toc()\n",
    "\n",
    "# Final checkpoint\n",
    "time.sleep(0.005)  # Very short sleep\n",
    "TimeIt.toc(\"Short checkpoint\")"
   ]
  },
  {
   "cell_type": "markdown",
   "metadata": {},
   "source": [
    "[//]: # \"Markdown code cells can either be displayed in a rendered fashion, or as source. You are now looking at the source code, and this is a comment.\"\n",
    "[//]: # \"To exit this mode, you must 'run' this markdown block.\"\n",
    "[//]: # \"In Jupyter Lab: you make sure this block is selected, and then press the 'run' button. In VSC you press the ✓ (check mark)\"\n",
    "[//]: # \"In both programs pressing 'CTRL'+'ENTER' will run the current cell.\"\n",
    "\n",
    "## Exercise 3\n",
    "To get a feeling for the speed difference between Python and Numpy your task is to implement the sum of all integers $0,...,n$ in three different ways:\n",
    "1. Using a python for-loop. *(Find a good value for $n$ such that it takes between 0.01 and one second)*\n",
    "2. Using numpy functions. \n",
    "\n",
    "   **NOTE:** since we are dealing with a very large number the default 32-bit integer will overflow. To change this provide `dtype=np.int64` when creating your `arrays`. \n",
    "\n",
    "3. Using the mathematical formula to compute it directly.\n",
    "\n",
    "How large are the gains? What causes these gains?"
   ]
  },
  {
   "cell_type": "code",
   "execution_count": null,
   "metadata": {},
   "outputs": [],
   "source": [
    "\n",
    "# 1. This function should sum all integers from 0 to n using a python for loop\n",
    "def sum_zero_to_n(n:int):\n",
    "    return \n",
    "\n",
    "# Here we set a large number to test the performance of the function\n",
    "n = 1_000_000\n",
    "\n",
    "with TimeIt(\"Python for-loop\"):\n",
    "    res_py_for = sum_zero_to_n(n)\n",
    "\n",
    "# 2. This function should make the same computation using numpy\n",
    "def sum_zero_to_n(n:int):\n",
    "    return \n",
    "\n",
    "with TimeIt(\"Numpy arange\"):\n",
    "    res_numpy = sum_zero_to_n(n)\n",
    "\n",
    "# 3. This function should make the same computation using a math formula\n",
    "def sum_zero_to_n(n:int):\n",
    "    return \n",
    "\n",
    "with TimeIt(\"Math\"):\n",
    "    res_math = sum_zero_to_n(n)\n",
    "\n",
    "# Make sure all variants compute the same result\n",
    "assert res_math == res_numpy == res_py_for"
   ]
  },
  {
   "cell_type": "markdown",
   "metadata": {},
   "source": [
    "[//]: # \"Markdown code cells can either be displayed in a rendered fashion, or as source. You are now looking at the source code, and this is a comment.\"\n",
    "[//]: # \"To exit this mode, you must 'run' this markdown block.\"\n",
    "[//]: # \"In Jupyter Lab: you make sure this block is selected, and then press the 'run' button. In VSC you press the ✓ (check mark)\"\n",
    "[//]: # \"In both programs pressing 'CTRL'+'ENTER' will run the current cell.\"\n",
    "\n",
    "# 4. When does numpy not behave as we expect?\n",
    "There are many situations where `numpy` won't behave how we want, but there is reason for its behavior. \n",
    "Read the examples below and make sure you understand what is happening in each case.\n",
    "\n",
    "\n",
    "## 4.1. Data type of the array\n",
    "As in normal python each variable has a type. On creation a datatype is assigned depending on the arguments, but it can also be altered with explicit calls.\n",
    "\n",
    "In the timing example, we needed to change the data type from `np.int32` to `np.int64` because the datatype defaulted to 32 bits.\n",
    "\n",
    "1. What error has occurred here?\n",
    "\n",
    "2. Give a solution such that the arithmetic operation behaves as we expect.\n",
    "\n",
    "[Numpy Documentation: Data types](https://numpy.org/doc/stable/user/basics.types.html)"
   ]
  },
  {
   "cell_type": "code",
   "execution_count": null,
   "metadata": {},
   "outputs": [],
   "source": [
    "a = np.array([3,2,3])\n",
    "b = np.array([1,2,2])\n",
    "\n",
    "a[-1] /= b[-1]\n",
    "\n",
    "print(f\"a: {a},\\nb: {b}\")"
   ]
  },
  {
   "cell_type": "markdown",
   "metadata": {},
   "source": [
    "[//]: # \"Markdown code cells can either be displayed in a rendered fashion, or as source. You are now looking at the source code, and this is a comment.\"\n",
    "[//]: # \"To exit this mode, you must 'run' this markdown block.\"\n",
    "[//]: # \"In Jupyter Lab: you make sure this block is selected, and then press the 'run' button. In VSC you press the ✓ (check mark)\"\n",
    "[//]: # \"In both programs pressing 'CTRL'+'ENTER' will run the current cell.\"\n",
    "\n",
    "## 4.2. Copying data\n",
    "When working with `numpy`, it's important to understand how data is stored and referenced. A `numpy` array holds the actual data in memory, and the variable you use (e.g., `large_matrix`) is similar to a label pointing to that data.\n",
    "\n",
    "If you assign a `numpy` array to another variable, you're not creating a new copy of the data. Instead, both variables will point to the same data in memory. This means that changing one will also affect the other.\n",
    "\n",
    "This behavior helps make code faster and more efficient, but it can sometimes lead to unexpected changes if you're not careful.\n",
    "\n",
    "To avoid this and create a completely independent copy of the data, use the `.copy()` method. \n",
    "This ensures that the new array has its own copy of the data, and changes to one won't affect the other.\n",
    "\n",
    "For C/C++ programmers: This behavior is similar to how pointers work. Assigning an array to a new variable in numpy doesn't create a deep copy — it merely points to the same underlying memory. Using `.copy()` is like explicitly creating a deep copy of the data.\n",
    "\n",
    "1. What has happened here?"
   ]
  },
  {
   "cell_type": "code",
   "execution_count": null,
   "metadata": {},
   "outputs": [],
   "source": [
    "a = np.array([1,2])\n",
    "b = a\n",
    "c = a.copy()\n",
    "b[0] = 3\n",
    "c[1] = 4\n",
    "\n",
    "print(\"a\",a)\n",
    "print(\"b\",b)\n",
    "print(\"c\",c)"
   ]
  },
  {
   "cell_type": "markdown",
   "metadata": {},
   "source": [
    "[//]: # \"Markdown code cells can either be displayed in a rendered fashion, or as source. You are now looking at the source code, and this is a comment.\"\n",
    "[//]: # \"To exit this mode, you must 'run' this markdown block.\"\n",
    "[//]: # \"In Jupyter Lab: you make sure this block is selected, and then press the 'run' button. In VSC you press the ✓ (check mark)\"\n",
    "[//]: # \"In both programs pressing 'CTRL'+'ENTER' will run the current cell.\"\n",
    "\n",
    "## 4.3. `NaN`, `Inf` and `-Inf`\n",
    "When performing illegal arithmetic operations we get values such as `NaN`, `Inf` and `-Inf`. Each one of these appear under different circumstances, one such is using an incompatible data type (e.g. integer, float, or bool). You either specify data type when creating the array using the argument `dtype=...`, or change it as described here: [Numpy Documentation: Change Data Type](https://numpy.org/doc/stable/reference/generated/numpy.ndarray.astype.html)\n",
    "\n",
    "1. Why and when is `numpy` assigning `NaN` or `Inf` to some elements?\n",
    "2. If we are limited to real number, $\\sqrt{-1}$ has no solution. Say that we want the complex root, such that $\\sqrt{-1}=i$, we must change the data type of number we are working with. Make the modifications so the code behaves this way.\n",
    "3. There are also variants of our arithmetic operations that ignore `NaN` values, for examples `np.nansum(...)` instead of `np.sum(...)`. Change the `max` such that it find the largest non-`NaN` value.\n",
    "\n",
    "\n",
    "_Note: As you can see: Numpy gives runtime warnings when we do such things, **don't** ignore these and investigate the cause._"
   ]
  },
  {
   "cell_type": "code",
   "execution_count": null,
   "metadata": {},
   "outputs": [],
   "source": [
    "a = np.array([-1, 0, 1])\n",
    "print(\"Square root of a:\\n\",np.sqrt(a))\n",
    "\n",
    "b = np.array([1.3, 2.4, 2.1, 3.8])\n",
    "b /= np.array([0, 2.0, 5.0, 1.0])\n",
    "\n",
    "print(\"Largest and smallest non-nan element in b:\", np.max(b),\"and\",np.min(b))"
   ]
  },
  {
   "cell_type": "markdown",
   "metadata": {},
   "source": [
    "[//]: # \"Markdown code cells can either be displayed in a rendered fashion, or as source. You are now looking at the source code, and this is a comment.\"\n",
    "[//]: # \"To exit this mode, you must 'run' this markdown block.\"\n",
    "[//]: # \"In Jupyter Lab: you make sure this block is selected, and then press the 'run' button. In VSC you press the ✓ (check mark)\"\n",
    "[//]: # \"In both programs pressing 'CTRL'+'ENTER' will run the current cell.\"\n",
    "\n",
    "# 5. Plotting results\n",
    "It is key to be able to communicate results and conclusions. Making good plots is an important part to show your findings. \n",
    "\n",
    "The following assignment will be a short introduction to `matplotlib`. \n",
    "\n",
    "### You find the assignments in `plot.pdf`,\n",
    "\n",
    "## 5.1 Prey and Predator\n",
    "\n",
    "Make sure you have read relevant parts of `plot.pdf`\n",
    "\n",
    "For this first plot we want you to plot the data given in: `ecology.npy`. \n",
    "The array in `ecology.npy` is such that the first column in the year, second column is the number of predators, and the third is the number of prey.\n",
    "\n",
    "`.npy` is the most common file format to store numpy arrays in, but numpy also have good support for plain text formats, *e.g.*, `.csv`.\n",
    "\n",
    "[Numpy Documentation: Load](https://numpy.org/doc/stable/reference/generated/numpy.load.html)\n",
    "\n",
    "To give some guidance, we provide links to key examples presented in `matplotlib`s documentation. \n",
    "- [The list of all examples](https://matplotlib.org/stable/gallery/index.html#examples)\n",
    "- [First Example](https://matplotlib.org/stable/gallery/lines_bars_and_markers/simple_plot.html#sphx-glr-gallery-lines-bars-and-markers-simple-plot-py)\n",
    "- [Figure size](https://matplotlib.org/stable/gallery/subplots_axes_and_figures/figure_size_units.html#sphx-glr-gallery-subplots-axes-and-figures-figure-size-units-py)\n",
    "- [Line styles](https://matplotlib.org/stable/gallery/lines_bars_and_markers/linestyles.html#sphx-glr-gallery-lines-bars-and-markers-linestyles-py)\n",
    "- [Two Y:axis](https://matplotlib.org/stable/gallery/subplots_axes_and_figures/two_scales.html#sphx-glr-gallery-subplots-axes-and-figures-two-scales-py)\n",
    "- [Legend](https://matplotlib.org/stable/gallery/text_labels_and_annotations/legend.html#sphx-glr-gallery-text-labels-and-annotations-legend-py)\n",
    "\n",
    "Similarly to before we must import `matplotlib`, which is often named `plt`."
   ]
  },
  {
   "cell_type": "code",
   "execution_count": null,
   "metadata": {},
   "outputs": [],
   "source": [
    "from matplotlib import pyplot as plt"
   ]
  },
  {
   "cell_type": "code",
   "execution_count": null,
   "metadata": {},
   "outputs": [],
   "source": [
    "# Create your first figure here\n"
   ]
  },
  {
   "cell_type": "code",
   "execution_count": null,
   "metadata": {},
   "outputs": [],
   "source": [
    "# Create your second figure here\n"
   ]
  },
  {
   "cell_type": "code",
   "execution_count": null,
   "metadata": {},
   "outputs": [],
   "source": [
    "# Create your third figure here\n"
   ]
  },
  {
   "cell_type": "markdown",
   "metadata": {},
   "source": [
    "[//]: # \"Markdown code cells can either be displayed in a rendered fashion, or as source. You are now looking at the source code, and this is a comment.\"\n",
    "[//]: # \"To exit this mode, you must 'run' this markdown block.\"\n",
    "[//]: # \"In Jupyter Lab: you make sure this block is selected, and then press the 'run' button. In VSC you press the ✓ (check mark)\"\n",
    "[//]: # \"In both programs pressing 'CTRL'+'ENTER' will run the current cell.\"\n",
    "\n",
    "## 5.2 Data Rates\n",
    "Make sure you have read relevant parts of `plot.pdf`\n",
    "\n",
    "In this second plot you will create a histogram using the data generated by the given code:"
   ]
  },
  {
   "cell_type": "code",
   "execution_count": null,
   "metadata": {},
   "outputs": [],
   "source": [
    "number_of_users = 1000\n",
    "\n",
    "# Place users randomly in the area, (x,y)\n",
    "user_pos = np.random.uniform(0, 2000, (2, number_of_users))\n",
    "# Set the minimum distance for all users to inf\n",
    "d = np.ones((user_pos.shape[1]))*np.inf\n",
    "\n",
    "for bx, by in [(2000, 2000), (0, 2000), (0, 0), (2000, 0), (1000, 1000)]:\n",
    "    # Loop over each base station position and find the minimum distance from\n",
    "    # all users to any base station\n",
    "    d = np.minimum(np.sqrt((user_pos[0,:]-bx)**2+(user_pos[1,:]-by)**2), d)\n",
    "\n",
    "kappa = 4\n",
    "sigma2 = 10**(-11.2)\n",
    "B = 10e6\n",
    "\n",
    "# Compute the received power \n",
    "P = 1/((1+d)**(kappa) * (sigma2))\n",
    "# Compute the achievable rate given the received power\n",
    "R = np.zeros_like(d)\n",
    "R[P >= 0.3] = B * np.log2(1 + np.minimum(P[P >= 0.3], 63))"
   ]
  },
  {
   "cell_type": "code",
   "execution_count": null,
   "metadata": {},
   "outputs": [],
   "source": [
    "# Compute the coverage percentage\n",
    "\n",
    "# Compute average data rate among the users who have coverage\n"
   ]
  },
  {
   "cell_type": "markdown",
   "metadata": {},
   "source": [
    "[//]: # \"Markdown code cells can either be displayed in a rendered fashion, or as source. You are now looking at the source code, and this is a comment.\"\n",
    "[//]: # \"To exit this mode, you must 'run' this markdown block.\"\n",
    "[//]: # \"In Jupyter Lab: you make sure this block is selected, and then press the 'run' button. In VSC you press the ✓ (check mark)\"\n",
    "[//]: # \"In both programs pressing 'CTRL'+'ENTER' will run the current cell.\"\n",
    "\n",
    "Because of the data, the histogram should feature:\n",
    "- A peak at zero, for those who have so low data rate such that we don't count it.\n",
    "- A peak at the maximum data rate, for those who are close enough to a base station to get the highest speed.\n",
    "- A (rather) smooth curve in between. (if you increase `number_of_users` the plot should become smoother, but increase computational load.)\n",
    "\n",
    "To give some guidance, we provide links to examples presented in `matplotlib`s documentation. \n",
    "- [The list of all examples](https://matplotlib.org/stable/gallery/index.html#examples)\n",
    "- [Histograms](https://matplotlib.org/stable/gallery/statistics/hist.html#sphx-glr-gallery-statistics-hist-py)\n"
   ]
  },
  {
   "cell_type": "code",
   "execution_count": null,
   "metadata": {},
   "outputs": [],
   "source": [
    "# Implement your plot here.\n"
   ]
  }
 ],
 "metadata": {
  "kernelspec": {
   "display_name": ".venv",
   "language": "python",
   "name": "python3"
  },
  "language_info": {
   "codemirror_mode": {
    "name": "ipython",
    "version": 3
   },
   "file_extension": ".py",
   "mimetype": "text/x-python",
   "name": "python",
   "nbconvert_exporter": "python",
   "pygments_lexer": "ipython3",
   "version": "3.12.7"
  }
 },
 "nbformat": 4,
 "nbformat_minor": 4
}
